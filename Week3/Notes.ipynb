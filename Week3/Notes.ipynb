{
 "cells": [
  {
   "cell_type": "markdown",
   "metadata": {},
   "source": [
    "IOPS\n",
    "INPUT / OUTPUT Per Second"
   ]
  },
  {
   "cell_type": "markdown",
   "metadata": {},
   "source": [
    "OLAP is useful for analytics, optimized for read speed\n",
    "\n"
   ]
  },
  {
   "cell_type": "markdown",
   "metadata": {},
   "source": []
  },
  {
   "cell_type": "markdown",
   "metadata": {},
   "source": [
    "OLTP optimized for transactions\n",
    "\n"
   ]
  },
  {
   "cell_type": "markdown",
   "metadata": {},
   "source": [
    "CTAS\n",
    "Create table as SELECT - SELECT INTO\n"
   ]
  },
  {
   "cell_type": "markdown",
   "metadata": {},
   "source": [
    "DDL - Data Definition (CREATE, ALTER, DROP, RENAME)\n",
    "DCL - Data Control  (GRANT, DENY, REVOKE)\n",
    "DML - Data Manipulation (INSERT, UPDATE, DELETE, SELECT)\n",
    "TCL - Transaction Control (COMMIT, ROLLBACK, TRANSACTION)"
   ]
  },
  {
   "cell_type": "markdown",
   "metadata": {},
   "source": [
    "Object = Data + metadata\n"
   ]
  },
  {
   "cell_type": "markdown",
   "metadata": {},
   "source": [
    "XML Like HTML is Semi-Structured\n",
    "Flexible schema "
   ]
  },
  {
   "cell_type": "code",
   "execution_count": null,
   "metadata": {},
   "outputs": [],
   "source": [
    "# YAML\n",
    "# Yet Another Markup Language (isn't a markup language???)\n",
    "# Indented language like python\n",
    "# Superset of JSON\n",
    "\n",
    "# Appears in DevOps quite often\n",
    "#\n"
   ]
  },
  {
   "cell_type": "code",
   "execution_count": null,
   "metadata": {},
   "outputs": [],
   "source": [
    "# Protocol Buffers (simplified XML)\n",
    "# Google preferred \n",
    "# Not human readable\n",
    "# Low level (like assembly)"
   ]
  },
  {
   "cell_type": "code",
   "execution_count": null,
   "metadata": {},
   "outputs": [],
   "source": [
    "# JSON\n",
    "# Representation of objects in JavaScript\n",
    "# Shown as dictionaries\n",
    "# Only supports primitive types (Strings (technically an object), Numbers, booleans, Null)\n"
   ]
  },
  {
   "cell_type": "code",
   "execution_count": null,
   "metadata": {},
   "outputs": [],
   "source": [
    "# Parquet \n",
    "# Primary format for Apache Spark\n",
    "# Optimized for reading INPUT / OUTPUT (Reason why we use it)\n",
    "# Very useful for ETL \n",
    "# Allows for Schema evolution (adding or changing the schema)\n"
   ]
  },
  {
   "cell_type": "code",
   "execution_count": null,
   "metadata": {},
   "outputs": [],
   "source": [
    "# Optimized Row Columnar (ORC)\\\n",
    "# Used in Apache Hive\n",
    "#"
   ]
  },
  {
   "cell_type": "code",
   "execution_count": null,
   "metadata": {},
   "outputs": [],
   "source": [
    "# Avro\n",
    "# Developed for Hadoop\n",
    "# Not really used anymore, due to Hadoop being outdated\n",
    "# row based "
   ]
  },
  {
   "cell_type": "code",
   "execution_count": null,
   "metadata": {},
   "outputs": [],
   "source": [
    "# OTLP - Transactions\n",
    "# OLAP - Read speed (Analytics)\n",
    "\n",
    "# RESTful APIs return JSON\n",
    "# SOAP APIs return XML "
   ]
  },
  {
   "cell_type": "code",
   "execution_count": null,
   "metadata": {},
   "outputs": [],
   "source": [
    "# Non-Relational database types\n",
    "# Key-Value\n",
    "# Document\n",
    "# Graph\n",
    "# Wide Column (Column Family)"
   ]
  },
  {
   "cell_type": "code",
   "execution_count": null,
   "metadata": {},
   "outputs": [],
   "source": [
    "# Atomicity\n",
    "# Consistency\n",
    "# Isolation\n",
    "# Durability"
   ]
  },
  {
   "cell_type": "code",
   "execution_count": null,
   "metadata": {},
   "outputs": [],
   "source": [
    "# Review data lakes and Warehouses"
   ]
  },
  {
   "cell_type": "code",
   "execution_count": null,
   "metadata": {},
   "outputs": [],
   "source": [
    "# Storage layers\n",
    "# Landing zone - raw unfiltered data\n",
    "# Conformance Layer\n",
    "# Standardized layer\n",
    "# Curated layer\n",
    "# Sandbox layer"
   ]
  },
  {
   "cell_type": "code",
   "execution_count": null,
   "metadata": {},
   "outputs": [],
   "source": [
    "# Built on Apache Spark Databricks"
   ]
  },
  {
   "cell_type": "code",
   "execution_count": null,
   "metadata": {},
   "outputs": [],
   "source": [
    "# Response to event \n",
    "# Data Factory\n",
    "# Synapse Analytics"
   ]
  }
 ],
 "metadata": {
  "language_info": {
   "name": "python"
  }
 },
 "nbformat": 4,
 "nbformat_minor": 2
}
