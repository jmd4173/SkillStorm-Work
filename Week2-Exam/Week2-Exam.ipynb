{
 "cells": [
  {
   "cell_type": "code",
   "execution_count": 6,
   "metadata": {},
   "outputs": [],
   "source": [
    "class Flight:\n",
    "    #Python constructor\n",
    "    def __init__(self, flight_number, departure_city, arrival_city, departure_time, seat_capacity=150):\n",
    "        self.flight_number = flight_number\n",
    "        self.departure_city = departure_city\n",
    "        self.arrival_city = arrival_city\n",
    "        self.departure_time = departure_time\n",
    "        self.passenger_list = []\n",
    "        self.seat_capacity = seat_capacity\n",
    "\n",
    "    def add_passenger(self, passenger_name):\n",
    "        #Check availability, unable to add passenger if object list is over seat capacity\n",
    "        if len(self.passenger_list) < self.seat_capacity:\n",
    "            self.passenger_list.append(passenger_name)\n",
    "            print(f\"Passenger {passenger_name} added successfully.\")\n",
    "        else:\n",
    "            print(\"The flight is full. Cannot add more passengers.\")\n",
    "\n",
    "    def remove_passenger(self, passenger_name):\n",
    "        #Check if specified passenger is in list\n",
    "        if passenger_name in self.passenger_list:\n",
    "            self.passenger_list.remove(passenger_name)\n",
    "            print(f\"Passenger {passenger_name} removed successfully.\")\n",
    "        else:\n",
    "            print(f\"Passenger {passenger_name} is not on the flight.\")\n",
    "\n",
    "    def log_flight(self):\n",
    "        #create file, we want to append to it\n",
    "        with open(\"flight_log.txt\", \"a\") as log_file:\n",
    "            #add flight details\n",
    "            log_file.write(f\"Flight {self.flight_number} from {self.departure_city} to {self.arrival_city} with {len(self.passenger_list)} passengers\\n\")\n",
    "            print(\"Flight logged successfully.\")\n",
    "\n",
    "    def check_availability(self):\n",
    "        #Return number of available seats\n",
    "        return self.seat_capacity - len(self.passenger_list)\n",
    "\n",
    "    def __str__(self):\n",
    "        #override __str__\n",
    "        return f\"Flight {self.flight_number} from {self.departure_city} to {self.arrival_city}\"\n",
    "\n",
    "\n"
   ]
  },
  {
   "cell_type": "code",
   "execution_count": 8,
   "metadata": {},
   "outputs": [
    {
     "name": "stdout",
     "output_type": "stream",
     "text": [
      "Flight SkillStorm Exam from New Mexico to San Francisco\n",
      "Passenger John DAngelo added successfully.\n",
      "Passenger Justin Verdecia added successfully.\n",
      "Seats available: 148\n",
      "Passenger Justin Verdecia removed successfully.\n",
      "Passenger Im not real is not on the flight.\n",
      "Flight logged successfully.\n"
     ]
    }
   ],
   "source": [
    "# Runtime and testing\n",
    "if __name__ == \"__main__\":\n",
    "    flight = Flight(\"SkillStorm Exam\", \"New Mexico\", \"San Francisco\", \"2024-06-24 9:30\")\n",
    "    print(flight)\n",
    "    flight.add_passenger(\"John DAngelo\")\n",
    "    flight.add_passenger(\"Justin Verdecia\")\n",
    "    print(f\"Seats available: {flight.check_availability()}\")\n",
    "    flight.remove_passenger(\"Justin Verdecia\")\n",
    "    flight.remove_passenger(\"Im not real\")\n",
    "    flight.log_flight()"
   ]
  }
 ],
 "metadata": {
  "kernelspec": {
   "display_name": ".venv",
   "language": "python",
   "name": "python3"
  },
  "language_info": {
   "codemirror_mode": {
    "name": "ipython",
    "version": 3
   },
   "file_extension": ".py",
   "mimetype": "text/x-python",
   "name": "python",
   "nbconvert_exporter": "python",
   "pygments_lexer": "ipython3",
   "version": "3.12.1"
  }
 },
 "nbformat": 4,
 "nbformat_minor": 2
}
